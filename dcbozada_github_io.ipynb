{
 "cells": [
  {
   "cell_type": "markdown",
   "id": "81cfbb2c-6c72-4098-a6d2-22196dd22503",
   "metadata": {},
   "source": [
    "# [dcbozada.github.io](https://dcbozada.github.io/)"
   ]
  },
  {
   "cell_type": "markdown",
   "id": "9b8723a0-5908-44e0-b564-02ec047d33f4",
   "metadata": {},
   "source": [
    "## The Story of the Russian Cosmonaut\n",
    "The Cosmonaut goes up in a big space ship, and in this space ship is a portal window. He looks out this portal window and for the first time ever, he can see the curvature of the Earth. A beautiful moment. All of a sudden, a ticking sound starts protruding from the dashboard. He can't find the noise, he doesn't know where it's coming from, he keeps going. After a few hours of this, it begins to feel like torture. But what is he going to do? He's in space! The Cosmonaut decides that the only way to save his sanity, is to fall in love with the sound. "
   ]
  }
 ],
 "metadata": {
  "kernelspec": {
   "display_name": "Python 3",
   "language": "python",
   "name": "python3"
  },
  "language_info": {
   "codemirror_mode": {
    "name": "ipython",
    "version": 3
   },
   "file_extension": ".py",
   "mimetype": "text/x-python",
   "name": "python",
   "nbconvert_exporter": "python",
   "pygments_lexer": "ipython3",
   "version": "3.8.11"
  }
 },
 "nbformat": 4,
 "nbformat_minor": 5
}
